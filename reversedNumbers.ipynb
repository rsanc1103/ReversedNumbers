{
  "nbformat": 4,
  "nbformat_minor": 0,
  "metadata": {
    "colab": {
      "name": "Untitled0.ipynb",
      "provenance": [],
      "collapsed_sections": []
    },
    "kernelspec": {
      "name": "python3",
      "display_name": "Python 3"
    },
    "language_info": {
      "name": "python"
    }
  },
  "cells": [
    {
      "cell_type": "markdown",
      "source": [
        "#Reversed Numbers\n",
        "\n",
        "- Think of a number, reverse it, and add them.\n",
        "- Repeat process and eventually you'll encounter a  Palindrome number.\n",
        "- Example. \n",
        "  - 139 + 931 = 1070 \n",
        "  - 1070 + 0701 = **1771**\n",
        "- But, see what happens when you try 196."
      ],
      "metadata": {
        "id": "3IoVkE7G0oHL"
      }
    },
    {
      "cell_type": "code",
      "execution_count": null,
      "metadata": {
        "colab": {
          "base_uri": "https://localhost:8080/"
        },
        "id": "-_7nU2U_0Gl-",
        "outputId": "f08e85f2-f994-47b0-8303-ef084c6d14f4"
      },
      "outputs": [
        {
          "output_type": "stream",
          "name": "stdout",
          "text": [
            "139 + 931 = 1070\n",
            "1070 + 0701 = 1771\n",
            "Palindrome found!\n",
            "Additions: 2\n"
          ]
        }
      ],
      "source": [
        "import string\n",
        "\n",
        "def palindrome(x:string, counter):\n",
        "    num = str(int(x) + int(x[::-1]))\n",
        "\n",
        "    if(num == num[::-1]):\n",
        "        print(x + \" + \" + x[::-1] + \" = \" + str(num))\n",
        "        print(\"Palindrome found!\")\n",
        "        print(\"Additions:\", counter)\n",
        "        return\n",
        "    else:\n",
        "        num = int(x) + int(x[::-1])\n",
        "        print(x + \" + \" + x[::-1] + \" = \" + str(num))\n",
        "        counter += 1\n",
        "\n",
        "    palindrome(str(num), counter)\n",
        "\n",
        "palindrome(\"139\", 1)"
      ]
    }
  ]
}